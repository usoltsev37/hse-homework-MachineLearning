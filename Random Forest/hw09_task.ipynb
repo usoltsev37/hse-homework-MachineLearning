{
 "cells": [
  {
   "cell_type": "markdown",
   "metadata": {
    "id": "owQHb50qJY1m"
   },
   "source": [
    "# Случайные леса\n",
    "__Суммарное количество баллов: 10__\n",
    "\n",
    "__Решение отправлять на `ml.course.practice@gmail.com`__\n",
    "\n",
    "__Тема письма: `[HSE][ML][HW09] <ФИ>`, где вместо `<ФИ>` указаны фамилия и имя__\n",
    "\n",
    "В этом задании вам предстоит реализовать ансамбль деревьев решений, известный как случайный лес, применить его к публичным данным пользователей социальной сети Вконтакте, и сравнить его эффективность с ансамблем, предоставляемым библиотекой CatBoost.\n",
    "\n",
    "В результате мы сможем определить, какие подписки пользователей больше всего влияют на определение возраста и пола человека. "
   ]
  },
  {
   "cell_type": "code",
   "execution_count": 1,
   "metadata": {
    "id": "cBlwWMWbJY1q"
   },
   "outputs": [],
   "source": [
    "from sklearn.model_selection import train_test_split\n",
    "import numpy as np\n",
    "import pandas\n",
    "import random\n",
    "import matplotlib.pyplot as plt\n",
    "import matplotlib\n",
    "import copy\n",
    "from catboost import CatBoostClassifier\n",
    "from sklearn import preprocessing"
   ]
  },
  {
   "cell_type": "code",
   "execution_count": 2,
   "metadata": {
    "id": "RRcsIXHXJY1r"
   },
   "outputs": [],
   "source": [
    "def gini(x):\n",
    "    _, counts = np.unique(x, return_counts=True)\n",
    "    proba = counts / len(x)\n",
    "    return np.sum(proba * (1 - proba))\n",
    "    \n",
    "def entropy(x):\n",
    "    _, counts = np.unique(x, return_counts=True)\n",
    "    proba = counts / len(x)\n",
    "    return -np.sum(proba * np.log2(proba))\n",
    "\n",
    "def gain(left_y, right_y, criterion):\n",
    "    y = np.concatenate((left_y, right_y))\n",
    "    return criterion(y) - (criterion(left_y) * len(left_y) + criterion(right_y) * len(right_y)) / len(y)"
   ]
  },
  {
   "cell_type": "markdown",
   "metadata": {
    "id": "V1mmD9DIJY1r"
   },
   "source": [
    "### Задание 1 (2 балла)\n",
    "Random Forest состоит из деревьев решений. Каждое такое дерево строится на одной из выборок, полученных при помощи bagging. Элементы, которые не вошли в новую обучающую выборку, образуют out-of-bag выборку. Кроме того, в каждом узле дерева мы случайным образом выбираем набор из `max_features` и ищем признак для предиката разбиения только в этом наборе.\n",
    "\n",
    "Сегодня мы будем работать только с бинарными признаками, поэтому нет необходимости выбирать значение признака для разбиения.\n",
    "\n",
    "#### Методы\n",
    "`predict(X)` - возвращает предсказанные метки для элементов выборки `X`\n",
    "\n",
    "#### Параметры конструктора\n",
    "`X, y` - обучающая выборка и соответствующие ей метки классов. Из нее нужно получить выборку для построения дерева при помощи bagging. Out-of-bag выборку нужно запомнить, она понадобится потом.\n",
    "\n",
    "`criterion=\"gini\"` - задает критерий, который будет использоваться при построении дерева. Возможные значения: `\"gini\"`, `\"entropy\"`.\n",
    "\n",
    "`max_depth=None` - ограничение глубины дерева. Если `None` - глубина не ограничена\n",
    "\n",
    "`min_samples_leaf=1` - минимальное количество элементов в каждом листе дерева.\n",
    "\n",
    "`max_features=\"auto\"` - количество признаков, которые могут использоваться в узле. Если `\"auto\"` - равно `sqrt(X.shape[1])`"
   ]
  },
  {
   "cell_type": "code",
   "execution_count": 3,
   "metadata": {
    "pycharm": {
     "name": "#%%\n"
    }
   },
   "outputs": [],
   "source": [
    "from typing import Callable, Union, NoReturn, Optional, Dict, Any, List\n",
    "\n",
    "class DecisionTreeLeaf:\n",
    "    \"\"\"\n",
    "\n",
    "    Attributes\n",
    "    ----------\n",
    "    y : Тип метки (напр., int или str)\n",
    "        Метка класса, который встречается чаще всего среди элементов листа дерева\n",
    "    \"\"\"\n",
    "    def __init__(self,  labels):\n",
    "        uniq_labels, cnts = np.unique(labels, return_counts=True)\n",
    "        self.y = uniq_labels[np.argmax(cnts)]\n",
    "        probs = np.array(cnts, dtype=np.float) / labels.shape[0]\n",
    "        self.dict = {}\n",
    "        for label, prob in zip(uniq_labels, probs):\n",
    "            self.dict[label] = prob\n",
    "\n",
    "class DecisionTreeNode:\n",
    "    \"\"\"\n",
    "\n",
    "    Attributes\n",
    "    ----------\n",
    "    split_dim : int\n",
    "        Измерение, по которому разбиваем выборку.\n",
    "    split_value : float\n",
    "        Значение, по которому разбираем выборку.\n",
    "    left : Union[DecisionTreeNode, DecisionTreeLeaf]\n",
    "        Поддерево, отвечающее за случай x[split_dim] < split_value.\n",
    "    right : Union[DecisionTreeNode, DecisionTreeLeaf]\n",
    "        Поддерево, отвечающее за случай x[split_dim] >= split_value.\n",
    "    \"\"\"\n",
    "    def __init__(self, split_dim: int, split_value: float,\n",
    "                 left: Union['DecisionTreeNode', DecisionTreeLeaf],\n",
    "                 right: Union['DecisionTreeNode', DecisionTreeLeaf]):\n",
    "        self.split_dim = split_dim\n",
    "        self.split_value = split_value\n",
    "        self.left = left\n",
    "        self.right = right"
   ]
  },
  {
   "cell_type": "code",
   "execution_count": 4,
   "metadata": {
    "id": "Vq5JcBJ4JY1s"
   },
   "outputs": [],
   "source": [
    "class DecisionTree:\n",
    "    def __init__(self, X, y, criterion=\"gini\", max_depth=None, min_samples_leaf=1, max_features=\"auto\"):\n",
    "        self.root = None\n",
    "        if criterion == \"gini\":\n",
    "            self.criterion = gini\n",
    "        else:\n",
    "            self.criterion = entropy\n",
    "        self.max_depth = max_depth\n",
    "        self.min_samples_leaf = min_samples_leaf\n",
    "        if max_features == \"auto\":\n",
    "            self.max_features = np.floor(np.sqrt(X.shape[1])).astype(np.int)\n",
    "        else:\n",
    "            self.max_features = max_features\n",
    "        self.bag, self.out_bag = self._bagging(X, y)\n",
    "\n",
    "    def _bagging(self, X, y):\n",
    "        indexs = np.arange(X.shape[0])\n",
    "        in_bag = np.random.choice(indexs, size=(X.shape[0]))\n",
    "        out_of_bag = indexs[~np.in1d(indexs, in_bag)]\n",
    "        return (X[in_bag], y[in_bag]), (X[out_of_bag], y[out_of_bag])\n",
    "\n",
    "    def _build(self, X: np.ndarray, y: np.ndarray, curr_depth: int = 0) -> Union['DecisionTreeNode', DecisionTreeLeaf]:\n",
    "        if self.max_depth is not None and (curr_depth >= self.max_depth or curr_depth < 0):\n",
    "            return DecisionTreeLeaf(y)\n",
    "        flag_leaf, gain_val, feature, value = True, 0, 0, None\n",
    "        for i in np.random.choice(X.shape[1], size=self.max_features, replace=False):\n",
    "            for v in np.unique(X[:, i]):\n",
    "                l = X[:, i] == 0\n",
    "                r = X[:, i] != 0\n",
    "                gain_curr = gain(y[l], y[r], self.criterion)\n",
    "\n",
    "                if gain_curr >= gain_val and \\\n",
    "                        np.sum(r) >= self.min_samples_leaf and \\\n",
    "                        np.sum(l) >= self.min_samples_leaf:\n",
    "                    flag_leaf, gain_val, feature, value = False, gain_curr, i, v\n",
    "                    l_tree, r_tree = l.copy(), r.copy()\n",
    "        if flag_leaf:\n",
    "            return DecisionTreeLeaf(y)\n",
    "        else:\n",
    "            return DecisionTreeNode(feature, value,\n",
    "                                    self._build(X[l_tree], y[l_tree], curr_depth + 1),\n",
    "                                    self._build(X[r_tree], y[r_tree], curr_depth + 1))\n",
    "\n",
    "    def fit(self) -> NoReturn:\n",
    "        X, y = self.bag\n",
    "        self.root = self._build(X, y, 0)\n",
    "\n",
    "    def _go_to_leaf(self, x, node) -> Union['DecisionTreeNode', DecisionTreeLeaf]:\n",
    "        if x[node.split_dim] < node.split_value:\n",
    "            return node.left\n",
    "        else:\n",
    "            return node.right\n",
    "\n",
    "    def _prob(self, x, node) -> Dict[Any, float]:\n",
    "        if isinstance(node, DecisionTreeLeaf):\n",
    "            return node.dict\n",
    "        return self._prob(x, self._go_to_leaf(x, node))\n",
    "\n",
    "    def _predict_proba(self, X: np.ndarray) ->  List[Dict[Any, float]]:\n",
    "        return [self._prob(x, self.root) for x in X]\n",
    "        \n",
    "    def predict(self, X):\n",
    "        proba = self._predict_proba(X)\n",
    "        return np.array([max(p.keys(), key=lambda k: p[k]) for p in proba], dtype=np.int)\n",
    "\n",
    "    def calc_error(self, X, y):\n",
    "        return 1 - np.sum(self.predict(X) != y) / y.shape[0]"
   ]
  },
  {
   "cell_type": "markdown",
   "metadata": {
    "id": "fI8Wj8b7JY1t"
   },
   "source": [
    "### Задание 2 (2 балла)\n",
    "Теперь реализуем сам Random Forest. Идея очень простая: строим `n` деревьев, а затем берем модальное предсказание.\n",
    "\n",
    "#### Параметры конструктора\n",
    "`n_estimators` - количество используемых для предсказания деревьев.\n",
    "\n",
    "Остальное - параметры деревьев.\n",
    "\n",
    "#### Методы\n",
    "`fit(X, y)` - строит `n_estimators` деревьев по выборке `X`.\n",
    "\n",
    "`predict(X)` - для каждого элемента выборки `X` возвращает самый частый класс, который предсказывают для него деревья."
   ]
  },
  {
   "cell_type": "code",
   "execution_count": 5,
   "metadata": {
    "id": "kLiXR7kxJY1t"
   },
   "outputs": [],
   "source": [
    "class RandomForestClassifier:\n",
    "    def __init__(self, criterion=\"gini\", max_depth=None, min_samples_leaf=1,\n",
    "                 max_features=\"auto\", n_estimators=10):\n",
    "        if criterion == \"gini\":\n",
    "            self.criterion = gini\n",
    "        else:\n",
    "            self.criterion = entropy\n",
    "        self.max_depth = max_depth\n",
    "        self.min_samples_leaf = min_samples_leaf\n",
    "        self.max_features = max_features\n",
    "        self.n_estimators = n_estimators\n",
    "        self.trees = []\n",
    "    \n",
    "    def fit(self, X, y):\n",
    "        for _ in np.arange(self.n_estimators):\n",
    "            tree = DecisionTree(X, y,\n",
    "                               criterion=self.criterion,\n",
    "                               max_depth=self.max_depth,\n",
    "                               min_samples_leaf=self.min_samples_leaf,\n",
    "                               max_features=self.max_features)\n",
    "            tree.fit()\n",
    "            self.trees.append(tree)\n",
    "    \n",
    "    def predict(self, X):\n",
    "        preds = np.zeros((self.n_estimators, X.shape[0]), dtype=int)\n",
    "        for i, tree in enumerate(self.trees):\n",
    "            preds[i] = tree.predict(X)\n",
    "        return np.array([np.bincount(pred).argmax() for pred in preds.T])\n",
    "\n",
    "    def feature_importance(self):\n",
    "        n = self.trees[0].out_bag[0].shape[1]\n",
    "        result = np.zeros((self.n_estimators, n))\n",
    "        for i, tree in enumerate(self.trees):\n",
    "            X_ = tree.out_bag[0]\n",
    "            y =  tree.out_bag[1]\n",
    "            prec_error = tree.calc_error(X_, y)\n",
    "            for j in np.arange(n):\n",
    "                X_curr = X_.copy()\n",
    "                X_curr[:, j] = X_curr[np.random.permutation(range(X_.shape[0])), j]\n",
    "                result[i, j] = prec_error - tree.calc_error(X_curr, y)\n",
    "        return np.mean(result, axis=0)"
   ]
  },
  {
   "cell_type": "markdown",
   "metadata": {
    "id": "3nN5QZ3bJY1u"
   },
   "source": [
    "### Задание 3 (2 балла)\n",
    "Часто хочется понимать, насколько большую роль играет тот или иной признак для предсказания класса объекта. Есть различные способы посчитать его важность. Один из простых способов сделать это для Random Forest - посчитать out-of-bag ошибку предсказания `err_oob`, а затем перемешать значения признака `j` и посчитать ее (`err_oob_j`) еще раз. Оценкой важности признака `j` для одного дерева будет разность `err_oob_j - err_oob`, важность для всего леса считается как среднее значение важности по деревьям.\n",
    "\n",
    "Реализуйте функцию `feature_importance`, которая принимает на вход Random Forest и возвращает массив, в котором содержится важность для каждого признака."
   ]
  },
  {
   "cell_type": "code",
   "execution_count": 6,
   "metadata": {
    "id": "Fr1vG6JLJY1v"
   },
   "outputs": [],
   "source": [
    "def feature_importance(rfc):\n",
    "    return rfc.feature_importance()\n",
    "\n",
    "def most_important_features(importance, names, k=20):\n",
    "    # Выводит названия k самых важных признаков\n",
    "    idicies = np.argsort(importance)[::-1][:k]\n",
    "    return np.array(names)[idicies]"
   ]
  },
  {
   "cell_type": "markdown",
   "metadata": {
    "id": "cATCqIVkJY1v"
   },
   "source": [
    "Наконец, пришло время протестировать наше дерево на простом синтетическом наборе данных. В результате точность должна быть примерно равна `1.0`, наибольшее значение важности должно быть у признака с индексом `4`, признаки с индексами `2` и `3`  должны быть одинаково важны, а остальные признаки - не важны совсем."
   ]
  },
  {
   "cell_type": "code",
   "execution_count": 7,
   "metadata": {
    "id": "VEL4eiHmJY1w"
   },
   "outputs": [
    {
     "name": "stderr",
     "output_type": "stream",
     "text": [
      "/var/folders/j0/1l0qrqy50rb8ph6trtn7qkyr0000gn/T/ipykernel_13453/4065380050.py:11: DeprecationWarning: `np.int` is a deprecated alias for the builtin `int`. To silence this warning, use `int` by itself. Doing this will not modify any behavior and is safe. When replacing `np.int`, you may wish to use e.g. `np.int64` or `np.int32` to specify the precision. If you wish to review your current use, check the release note link for additional information.\n",
      "Deprecated in NumPy 1.20; for more details and guidance: https://numpy.org/devdocs/release/1.20.0-notes.html#deprecations\n",
      "  self.max_features = np.floor(np.sqrt(X.shape[1])).astype(np.int)\n",
      "/var/folders/j0/1l0qrqy50rb8ph6trtn7qkyr0000gn/T/ipykernel_13453/2566292134.py:14: DeprecationWarning: `np.float` is a deprecated alias for the builtin `float`. To silence this warning, use `float` by itself. Doing this will not modify any behavior and is safe. If you specifically wanted the numpy scalar type, use `np.float64` here.\n",
      "Deprecated in NumPy 1.20; for more details and guidance: https://numpy.org/devdocs/release/1.20.0-notes.html#deprecations\n",
      "  probs = np.array(cnts, dtype=np.float) / labels.shape[0]\n",
      "/var/folders/j0/1l0qrqy50rb8ph6trtn7qkyr0000gn/T/ipykernel_13453/4065380050.py:64: DeprecationWarning: `np.int` is a deprecated alias for the builtin `int`. To silence this warning, use `int` by itself. Doing this will not modify any behavior and is safe. When replacing `np.int`, you may wish to use e.g. `np.int64` or `np.int32` to specify the precision. If you wish to review your current use, check the release note link for additional information.\n",
      "Deprecated in NumPy 1.20; for more details and guidance: https://numpy.org/devdocs/release/1.20.0-notes.html#deprecations\n",
      "  return np.array([max(p.keys(), key=lambda k: p[k]) for p in proba], dtype=np.int)\n"
     ]
    },
    {
     "name": "stdout",
     "output_type": "stream",
     "text": [
      "Accuracy: 1.0\n",
      "Importance: [9.56501527e-04 3.06754698e-04 1.71396689e-01 1.67437805e-01\n",
      " 3.14903655e-01 1.52921336e-03]\n"
     ]
    }
   ],
   "source": [
    "def synthetic_dataset(size):\n",
    "    X = [(np.random.randint(0, 2), np.random.randint(0, 2), i % 6 == 3, \n",
    "          i % 6 == 0, i % 3 == 2, np.random.randint(0, 2)) for i in range(size)]\n",
    "    y = [i % 3 for i in range(size)]\n",
    "    return np.array(X), np.array(y)\n",
    "\n",
    "X, y = synthetic_dataset(1000)\n",
    "rfc = RandomForestClassifier(n_estimators=100)\n",
    "rfc.fit(X, y)\n",
    "print(\"Accuracy:\", np.mean(rfc.predict(X) == y))\n",
    "print(\"Importance:\", feature_importance(rfc))"
   ]
  },
  {
   "cell_type": "markdown",
   "metadata": {
    "id": "KHCKQ4hMJY1w"
   },
   "source": [
    "### Задание 4 (1 балл)\n",
    "Теперь поработаем с реальными данными.\n",
    "\n",
    "Выборка состоит из публичных анонимизированных данных пользователей социальной сети Вконтакте. Первые два столбца отражают возрастную группу (`zoomer`, `doomer` и `boomer`) и пол (`female`, `male`). Все остальные столбцы являются бинарными признаками, каждый из них определяет, подписан ли пользователь на определенную группу/публичную страницу или нет.\\\n",
    "\\\n",
    "Необходимо обучить два классификатора, один из которых определяет возрастную группу, а второй - пол.\\\n",
    "\\\n",
    "Эксперименты с множеством используемых признаков и подбор гиперпараметров приветствуются. Лес должен строиться за какое-то разумное время."
   ]
  },
  {
   "cell_type": "code",
   "execution_count": 8,
   "metadata": {
    "id": "Mga_WYifJY1w"
   },
   "outputs": [],
   "source": [
    "def read_dataset(path):\n",
    "    dataframe = pandas.read_csv(path, header=0)\n",
    "    dataset = dataframe.values.tolist()\n",
    "    random.shuffle(dataset)\n",
    "    y_age = [row[0] for row in dataset]\n",
    "    y_sex = [row[1] for row in dataset]\n",
    "    X = [row[2:] for row in dataset]\n",
    "    \n",
    "    return np.array(X), np.array(y_age), np.array(y_sex), list(dataframe.columns)[2:]"
   ]
  },
  {
   "cell_type": "code",
   "execution_count": 9,
   "metadata": {
    "id": "Qkz8Av6QJY1x"
   },
   "outputs": [],
   "source": [
    "X, y_age, y_sex, features = read_dataset(\"vk.csv\")\n",
    "y_age = preprocessing.LabelEncoder().fit_transform(y_age)\n",
    "y_sex = preprocessing.LabelEncoder().fit_transform(y_sex)\n",
    "X_train, X_test, y_age_train, y_age_test, y_sex_train, y_sex_test = train_test_split(X, y_age, y_sex, train_size=0.9)"
   ]
  },
  {
   "cell_type": "markdown",
   "metadata": {
    "id": "tjUqJL0fJY1x"
   },
   "source": [
    "#### Возраст"
   ]
  },
  {
   "cell_type": "code",
   "execution_count": 10,
   "metadata": {
    "id": "wg42KSCoJY1x"
   },
   "outputs": [
    {
     "name": "stderr",
     "output_type": "stream",
     "text": [
      "/var/folders/j0/1l0qrqy50rb8ph6trtn7qkyr0000gn/T/ipykernel_13453/4065380050.py:11: DeprecationWarning: `np.int` is a deprecated alias for the builtin `int`. To silence this warning, use `int` by itself. Doing this will not modify any behavior and is safe. When replacing `np.int`, you may wish to use e.g. `np.int64` or `np.int32` to specify the precision. If you wish to review your current use, check the release note link for additional information.\n",
      "Deprecated in NumPy 1.20; for more details and guidance: https://numpy.org/devdocs/release/1.20.0-notes.html#deprecations\n",
      "  self.max_features = np.floor(np.sqrt(X.shape[1])).astype(np.int)\n",
      "/var/folders/j0/1l0qrqy50rb8ph6trtn7qkyr0000gn/T/ipykernel_13453/2566292134.py:14: DeprecationWarning: `np.float` is a deprecated alias for the builtin `float`. To silence this warning, use `float` by itself. Doing this will not modify any behavior and is safe. If you specifically wanted the numpy scalar type, use `np.float64` here.\n",
      "Deprecated in NumPy 1.20; for more details and guidance: https://numpy.org/devdocs/release/1.20.0-notes.html#deprecations\n",
      "  probs = np.array(cnts, dtype=np.float) / labels.shape[0]\n",
      "/var/folders/j0/1l0qrqy50rb8ph6trtn7qkyr0000gn/T/ipykernel_13453/4065380050.py:64: DeprecationWarning: `np.int` is a deprecated alias for the builtin `int`. To silence this warning, use `int` by itself. Doing this will not modify any behavior and is safe. When replacing `np.int`, you may wish to use e.g. `np.int64` or `np.int32` to specify the precision. If you wish to review your current use, check the release note link for additional information.\n",
      "Deprecated in NumPy 1.20; for more details and guidance: https://numpy.org/devdocs/release/1.20.0-notes.html#deprecations\n",
      "  return np.array([max(p.keys(), key=lambda k: p[k]) for p in proba], dtype=np.int)\n"
     ]
    },
    {
     "name": "stdout",
     "output_type": "stream",
     "text": [
      "Accuracy: 0.7301387137452712\n",
      "Most important features:\n",
      "1. ovsyanochan\n",
      "2. rhymes\n",
      "3. 4ch\n",
      "4. styd.pozor\n",
      "5. mudakoff\n",
      "6. bestad\n",
      "7. dayvinchik\n",
      "8. leprum\n",
      "9. rapnewrap\n",
      "10. iwantyou\n",
      "11. pixel_stickers\n",
      "12. pravdashowtop\n",
      "13. reflexia_our_feelings\n",
      "14. i_d_t\n",
      "15. tumblr_vacuum\n",
      "16. top_screens\n",
      "17. xfilm\n",
      "18. girlmeme\n",
      "19. i_des\n",
      "20. bot_maxim\n"
     ]
    }
   ],
   "source": [
    "rfc = RandomForestClassifier(n_estimators=10)\n",
    "\n",
    "rfc.fit(X_train, y_age_train)\n",
    "print(\"Accuracy:\", np.mean(rfc.predict(X_test) == y_age_test))\n",
    "print(\"Most important features:\")\n",
    "for i, name in enumerate(most_important_features(feature_importance(rfc), features, 20)):\n",
    "    print(str(i+1) + \".\", name)"
   ]
  },
  {
   "cell_type": "markdown",
   "metadata": {
    "id": "1sP0pulKJY1x"
   },
   "source": [
    "#### Пол"
   ]
  },
  {
   "cell_type": "code",
   "execution_count": 11,
   "metadata": {
    "id": "EUou10q0JY1x"
   },
   "outputs": [
    {
     "name": "stderr",
     "output_type": "stream",
     "text": [
      "/var/folders/j0/1l0qrqy50rb8ph6trtn7qkyr0000gn/T/ipykernel_13453/4065380050.py:11: DeprecationWarning: `np.int` is a deprecated alias for the builtin `int`. To silence this warning, use `int` by itself. Doing this will not modify any behavior and is safe. When replacing `np.int`, you may wish to use e.g. `np.int64` or `np.int32` to specify the precision. If you wish to review your current use, check the release note link for additional information.\n",
      "Deprecated in NumPy 1.20; for more details and guidance: https://numpy.org/devdocs/release/1.20.0-notes.html#deprecations\n",
      "  self.max_features = np.floor(np.sqrt(X.shape[1])).astype(np.int)\n",
      "/var/folders/j0/1l0qrqy50rb8ph6trtn7qkyr0000gn/T/ipykernel_13453/2566292134.py:14: DeprecationWarning: `np.float` is a deprecated alias for the builtin `float`. To silence this warning, use `float` by itself. Doing this will not modify any behavior and is safe. If you specifically wanted the numpy scalar type, use `np.float64` here.\n",
      "Deprecated in NumPy 1.20; for more details and guidance: https://numpy.org/devdocs/release/1.20.0-notes.html#deprecations\n",
      "  probs = np.array(cnts, dtype=np.float) / labels.shape[0]\n",
      "/var/folders/j0/1l0qrqy50rb8ph6trtn7qkyr0000gn/T/ipykernel_13453/4065380050.py:64: DeprecationWarning: `np.int` is a deprecated alias for the builtin `int`. To silence this warning, use `int` by itself. Doing this will not modify any behavior and is safe. When replacing `np.int`, you may wish to use e.g. `np.int64` or `np.int32` to specify the precision. If you wish to review your current use, check the release note link for additional information.\n",
      "Deprecated in NumPy 1.20; for more details and guidance: https://numpy.org/devdocs/release/1.20.0-notes.html#deprecations\n",
      "  return np.array([max(p.keys(), key=lambda k: p[k]) for p in proba], dtype=np.int)\n"
     ]
    },
    {
     "name": "stdout",
     "output_type": "stream",
     "text": [
      "Accuracy: 0.8764186633039092\n",
      "Most important features:\n",
      "1. 40kg\n",
      "2. mudakoff\n",
      "3. girlmeme\n",
      "4. modnailru\n",
      "5. be.beauty\n",
      "6. 9o_6o_9o\n",
      "7. thesmolny\n",
      "8. igm\n",
      "9. zerofat\n",
      "10. sh.cook\n",
      "11. soverwenstvo.decora\n",
      "12. rapnewrap\n",
      "13. reflexia_our_feelings\n",
      "14. rhymes\n",
      "15. bon\n",
      "16. femalemem\n",
      "17. woman.blog\n",
      "18. combovine\n",
      "19. be.women\n",
      "20. h.made\n"
     ]
    }
   ],
   "source": [
    "rfc = RandomForestClassifier(n_estimators=10)\n",
    "rfc.fit(X_train, y_sex_train)\n",
    "print(\"Accuracy:\", np.mean(rfc.predict(X_test) == y_sex_test))\n",
    "print(\"Most important features:\")\n",
    "for i, name in enumerate(most_important_features(feature_importance(rfc), features, 20)):\n",
    "    print(str(i+1) + \".\", name)"
   ]
  },
  {
   "cell_type": "markdown",
   "metadata": {
    "id": "g9Y4RHyhJY1y"
   },
   "source": [
    "### CatBoost\n",
    "В качестве аьтернативы попробуем CatBoost. \n",
    "\n",
    "Устаниовить его можно просто с помощью `pip install catboost`. Туториалы можно найти, например, [здесь](https://catboost.ai/docs/concepts/python-usages-examples.html#multiclassification) и [здесь](https://github.com/catboost/tutorials/blob/master/python_tutorial.ipynb). Главное - не забудьте использовать `loss_function='MultiClass'`.\\\n",
    "\\\n",
    "Сначала протестируйте CatBoost на синтетических данных. Выведите точность и важность признаков."
   ]
  },
  {
   "cell_type": "code",
   "execution_count": 12,
   "metadata": {
    "pycharm": {
     "name": "#%%\n"
    }
   },
   "outputs": [
    {
     "name": "stdout",
     "output_type": "stream",
     "text": [
      "Accuracy: 1.0\n",
      "Importance: [9.42673024e-03 7.23075334e-03 2.92434094e+01 2.73289842e+01\n",
      " 4.34046314e+01 6.31748762e-03]\n"
     ]
    }
   ],
   "source": [
    "X, y = synthetic_dataset(1000)\n",
    "X_train, X_validation, y_train, y_validation = train_test_split(X, y, train_size=0.8, random_state=42)\n",
    "\n",
    "rfc = CatBoostClassifier(\n",
    "    custom_loss=['Accuracy'],\n",
    "    random_seed=42,\n",
    "    logging_level='Silent',\n",
    "    loss_function='MultiClass'\n",
    ")\n",
    "\n",
    "rfc.fit(\n",
    "    X_train, y_train,\n",
    "    eval_set=(X_validation, y_validation),\n",
    ")\n",
    "\n",
    "print(\"Accuracy:\", np.mean(rfc.predict(X_validation).flatten() == y_validation))\n",
    "print(\"Importance:\", rfc.get_feature_importance())"
   ]
  },
  {
   "cell_type": "markdown",
   "metadata": {
    "id": "yS1cvFRHJY1y"
   },
   "source": [
    "### Задание 5 (3 балла)\n",
    "Попробуем применить один из используемых на практике алгоритмов. В этом нам поможет CatBoost. Также, как и реализованный ними RandomForest, применим его для определения пола и возраста пользователей сети Вконтакте, выведите названия наиболее важных признаков так же, как в задании 3.\\\n",
    "\\\n",
    "Эксперименты с множеством используемых признаков и подбор гиперпараметров приветствуются."
   ]
  },
  {
   "cell_type": "code",
   "execution_count": 13,
   "metadata": {
    "id": "miOvPcXbJY1y"
   },
   "outputs": [],
   "source": [
    "X, y_age, y_sex, features = read_dataset(\"vk.csv\")\n",
    "X_train, X_test, y_age_train, y_age_test, y_sex_train, y_sex_test = train_test_split(X, y_age, y_sex, train_size=0.9)\n",
    "X_train, X_eval, y_age_train, y_age_eval, y_sex_train, y_sex_eval = train_test_split(X_train, y_age_train, y_sex_train, train_size=0.8)\n",
    "\n",
    "rfc = CatBoostClassifier(\n",
    "    custom_loss=['Accuracy'],\n",
    "    random_seed=28,\n",
    "    logging_level='Silent',\n",
    "    loss_function='MultiClass'\n",
    ")"
   ]
  },
  {
   "cell_type": "markdown",
   "metadata": {
    "id": "NVVhaiIxJY1z"
   },
   "source": [
    "#### Возраст"
   ]
  },
  {
   "cell_type": "code",
   "execution_count": 14,
   "metadata": {
    "id": "umGP9_rpJY1z"
   },
   "outputs": [
    {
     "name": "stdout",
     "output_type": "stream",
     "text": [
      "Accuracy: 0.7452711223203027\n",
      "Most important features:\n",
      "1. ovsyanochan\n",
      "2. 4ch\n",
      "3. styd.pozor\n",
      "4. mudakoff\n",
      "5. rhymes\n",
      "6. dayvinchik\n",
      "7. leprum\n",
      "8. bot_maxim\n",
      "9. xfilm\n",
      "10. fuck_humor\n"
     ]
    }
   ],
   "source": [
    "rfc.fit(X_train, y_age_train, eval_set=(X_eval, y_age_eval))\n",
    "\n",
    "print(\"Accuracy:\", np.mean(rfc.predict(X_test).flatten() == y_age_test))\n",
    "print(\"Most important features:\")\n",
    "for i, name in enumerate(most_important_features(rfc.feature_importances_, features, 10)):\n",
    "    print(str(i+1) + \".\", name)"
   ]
  },
  {
   "cell_type": "markdown",
   "metadata": {
    "id": "T7eavYC0JY1z"
   },
   "source": [
    "#### Пол"
   ]
  },
  {
   "cell_type": "code",
   "execution_count": 15,
   "metadata": {
    "id": "jvJNAmJxJY1z"
   },
   "outputs": [
    {
     "name": "stdout",
     "output_type": "stream",
     "text": [
      "Accuracy: 0.8726355611601513\n",
      "Most important features:\n",
      "1. 40kg\n",
      "2. mudakoff\n",
      "3. girlmeme\n",
      "4. modnailru\n",
      "5. igm\n",
      "6. thesmolny\n",
      "7. femalemem\n",
      "8. 9o_6o_9o\n",
      "9. zerofat\n",
      "10. cook_good\n"
     ]
    }
   ],
   "source": [
    "rfc.fit(X_train, y_sex_train, eval_set=(X_eval, y_sex_eval))\n",
    "\n",
    "print(\"Accuracy:\", np.mean(rfc.predict(X_test).flatten() == y_sex_test))\n",
    "print(\"Most important features:\")\n",
    "for i, name in enumerate(most_important_features(rfc.feature_importances_, features, 10)):\n",
    "    print(str(i+1) + \".\", name)"
   ]
  }
 ],
 "metadata": {
  "colab": {
   "collapsed_sections": [],
   "name": "hw09_task.ipynb",
   "provenance": []
  },
  "kernelspec": {
   "display_name": "Python 3 (ipykernel)",
   "language": "python",
   "name": "python3"
  },
  "language_info": {
   "codemirror_mode": {
    "name": "ipython",
    "version": 3
   },
   "file_extension": ".py",
   "mimetype": "text/x-python",
   "name": "python",
   "nbconvert_exporter": "python",
   "pygments_lexer": "ipython3",
   "version": "3.9.7"
  }
 },
 "nbformat": 4,
 "nbformat_minor": 1
}
